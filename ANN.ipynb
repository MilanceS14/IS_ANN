{
 "cells": [
  {
   "cell_type": "code",
   "execution_count": 1,
   "metadata": {},
   "outputs": [],
   "source": [
    "import numpy as np\n",
    "import pandas as pd\n",
    "from sklearn.metrics import accuracy_score\n",
    "from sklearn.model_selection import train_test_split\n",
    "from sklearn.preprocessing import MinMaxScaler\n",
    "import seaborn as sns\n",
    "import matplotlib.pyplot as plt\n",
    "import tensorflow as tf\n",
    "from tensorflow.keras import layers\n",
    "from tensorflow.keras import losses\n",
    "from tensorflow.keras import preprocessing"
   ]
  },
  {
   "cell_type": "code",
   "execution_count": 2,
   "metadata": {},
   "outputs": [],
   "source": [
    "df = pd.read_csv('data_banknote_authentication.csv')"
   ]
  },
  {
   "cell_type": "code",
   "execution_count": 3,
   "metadata": {},
   "outputs": [
    {
     "data": {
      "text/html": [
       "<div>\n",
       "<style scoped>\n",
       "    .dataframe tbody tr th:only-of-type {\n",
       "        vertical-align: middle;\n",
       "    }\n",
       "\n",
       "    .dataframe tbody tr th {\n",
       "        vertical-align: top;\n",
       "    }\n",
       "\n",
       "    .dataframe thead th {\n",
       "        text-align: right;\n",
       "    }\n",
       "</style>\n",
       "<table border=\"1\" class=\"dataframe\">\n",
       "  <thead>\n",
       "    <tr style=\"text-align: right;\">\n",
       "      <th></th>\n",
       "      <th>variance</th>\n",
       "      <th>skewness</th>\n",
       "      <th>curtosis</th>\n",
       "      <th>entropy</th>\n",
       "      <th>class</th>\n",
       "    </tr>\n",
       "  </thead>\n",
       "  <tbody>\n",
       "    <tr>\n",
       "      <th>0</th>\n",
       "      <td>3.62160</td>\n",
       "      <td>8.6661</td>\n",
       "      <td>-2.8073</td>\n",
       "      <td>-0.44699</td>\n",
       "      <td>0</td>\n",
       "    </tr>\n",
       "    <tr>\n",
       "      <th>1</th>\n",
       "      <td>4.54590</td>\n",
       "      <td>8.1674</td>\n",
       "      <td>-2.4586</td>\n",
       "      <td>-1.46210</td>\n",
       "      <td>0</td>\n",
       "    </tr>\n",
       "    <tr>\n",
       "      <th>2</th>\n",
       "      <td>3.86600</td>\n",
       "      <td>-2.6383</td>\n",
       "      <td>1.9242</td>\n",
       "      <td>0.10645</td>\n",
       "      <td>0</td>\n",
       "    </tr>\n",
       "    <tr>\n",
       "      <th>3</th>\n",
       "      <td>3.45660</td>\n",
       "      <td>9.5228</td>\n",
       "      <td>-4.0112</td>\n",
       "      <td>-3.59440</td>\n",
       "      <td>0</td>\n",
       "    </tr>\n",
       "    <tr>\n",
       "      <th>4</th>\n",
       "      <td>0.32924</td>\n",
       "      <td>-4.4552</td>\n",
       "      <td>4.5718</td>\n",
       "      <td>-0.98880</td>\n",
       "      <td>0</td>\n",
       "    </tr>\n",
       "  </tbody>\n",
       "</table>\n",
       "</div>"
      ],
      "text/plain": [
       "   variance  skewness  curtosis  entropy  class\n",
       "0   3.62160    8.6661   -2.8073 -0.44699      0\n",
       "1   4.54590    8.1674   -2.4586 -1.46210      0\n",
       "2   3.86600   -2.6383    1.9242  0.10645      0\n",
       "3   3.45660    9.5228   -4.0112 -3.59440      0\n",
       "4   0.32924   -4.4552    4.5718 -0.98880      0"
      ]
     },
     "execution_count": 3,
     "metadata": {},
     "output_type": "execute_result"
    }
   ],
   "source": [
    "df.head()"
   ]
  },
  {
   "cell_type": "code",
   "execution_count": 4,
   "metadata": {},
   "outputs": [],
   "source": [
    "X = df.drop('class', axis=1)\n",
    "y = df['class']"
   ]
  },
  {
   "cell_type": "code",
   "execution_count": 5,
   "metadata": {},
   "outputs": [],
   "source": [
    "min_max_scaler = MinMaxScaler()\n",
    "X = pd.DataFrame(min_max_scaler.fit_transform(X), columns=X.columns)"
   ]
  },
  {
   "cell_type": "code",
   "execution_count": 6,
   "metadata": {},
   "outputs": [],
   "source": [
    "X_train, X_test, y_train, y_test = train_test_split(X, y, test_size=0.3)"
   ]
  },
  {
   "cell_type": "code",
   "execution_count": 7,
   "metadata": {},
   "outputs": [
    {
     "data": {
      "image/png": "[encoded data removed]",
      "text/plain": [
       "<Figure size 720x720 with 2 Axes>"
      ]
     },
     "metadata": {
      "needs_background": "light"
     },
     "output_type": "display_data"
    }
   ],
   "source": [
    "fig, ax = plt.subplots(figsize=(10,10))\n",
    "corr = X.corr()\n",
    "ax = sns.heatmap(corr, vmin=-1, vmax=1, center=0, cmap=sns.diverging_palette(20, 220, n=200), square=True, ax=ax, annot=True)"
   ]
  },
  {
   "cell_type": "code",
   "execution_count": 20,
   "metadata": {},
   "outputs": [],
   "source": [
    "model = tf.keras.Sequential([\n",
    "    tf.keras.layers.Input(shape=(4,)),\n",
    "    tf.keras.layers.Dense(4, activation='relu'),\n",
    "    tf.keras.layers.Dense(3, activation='relu'),\n",
    "    tf.keras.layers.Dense(1)\n",
    "])"
   ]
  },
  {
   "cell_type": "code",
   "execution_count": 21,
   "metadata": {},
   "outputs": [],
   "source": [
    "model.compile(optimizer='adam',\n",
    "              loss=losses.BinaryCrossentropy(from_logits=True),\n",
    "              metrics=tf.metrics.BinaryAccuracy(threshold=0.5))"
   ]
  },
  {
   "cell_type": "code",
   "execution_count": 22,
   "metadata": {
    "scrolled": false
   },
   "outputs": [
    {
     "name": "stdout",
     "output_type": "stream",
     "text": [
      "Epoch 1/100\n",
      "30/30 [==============================] - 0s 745us/step - loss: 0.6854 - binary_accuracy: 0.5570\n",
      "Epoch 2/100\n",
      "30/30 [==============================] - 0s 828us/step - loss: 0.6771 - binary_accuracy: 0.5570\n",
      "Epoch 3/100\n",
      "30/30 [==============================] - 0s 754us/step - loss: 0.6672 - binary_accuracy: 0.5571\n",
      "Epoch 4/100\n",
      "30/30 [==============================] - 0s 816us/step - loss: 0.6495 - binary_accuracy: 0.5458\n",
      "Epoch 5/100\n",
      "30/30 [==============================] - 0s 861us/step - loss: 0.6338 - binary_accuracy: 0.5635\n",
      "Epoch 6/100\n",
      "30/30 [==============================] - 0s 825us/step - loss: 0.6196 - binary_accuracy: 0.5989\n",
      "Epoch 7/100\n",
      "30/30 [==============================] - 0s 856us/step - loss: 0.6088 - binary_accuracy: 0.6444\n",
      "Epoch 8/100\n",
      "30/30 [==============================] - 0s 856us/step - loss: 0.5981 - binary_accuracy: 0.6373\n",
      "Epoch 9/100\n",
      "30/30 [==============================] - 0s 852us/step - loss: 0.5769 - binary_accuracy: 0.6327\n",
      "Epoch 10/100\n",
      "30/30 [==============================] - 0s 829us/step - loss: 0.5844 - binary_accuracy: 0.6457\n",
      "Epoch 11/100\n",
      "30/30 [==============================] - 0s 830us/step - loss: 0.5722 - binary_accuracy: 0.6453\n",
      "Epoch 12/100\n",
      "30/30 [==============================] - 0s 841us/step - loss: 0.5506 - binary_accuracy: 0.6742\n",
      "Epoch 13/100\n",
      "30/30 [==============================] - 0s 792us/step - loss: 0.5290 - binary_accuracy: 0.6890\n",
      "Epoch 14/100\n",
      "30/30 [==============================] - 0s 751us/step - loss: 0.5331 - binary_accuracy: 0.6946\n",
      "Epoch 15/100\n",
      "30/30 [==============================] - 0s 862us/step - loss: 0.5382 - binary_accuracy: 0.6674\n",
      "Epoch 16/100\n",
      "30/30 [==============================] - 0s 831us/step - loss: 0.5026 - binary_accuracy: 0.6998\n",
      "Epoch 17/100\n",
      "30/30 [==============================] - ETA: 0s - loss: 0.4927 - binary_accuracy: 0.781 - 0s 881us/step - loss: 0.5017 - binary_accuracy: 0.7138\n",
      "Epoch 18/100\n",
      "30/30 [==============================] - 0s 818us/step - loss: 0.4876 - binary_accuracy: 0.7406\n",
      "Epoch 19/100\n",
      "30/30 [==============================] - 0s 851us/step - loss: 0.4527 - binary_accuracy: 0.7736\n",
      "Epoch 20/100\n",
      "30/30 [==============================] - 0s 859us/step - loss: 0.4588 - binary_accuracy: 0.7554\n",
      "Epoch 21/100\n",
      "30/30 [==============================] - 0s 813us/step - loss: 0.4714 - binary_accuracy: 0.7661\n",
      "Epoch 22/100\n",
      "30/30 [==============================] - 0s 889us/step - loss: 0.4434 - binary_accuracy: 0.7840\n",
      "Epoch 23/100\n",
      "30/30 [==============================] - 0s 866us/step - loss: 0.4581 - binary_accuracy: 0.7643\n",
      "Epoch 24/100\n",
      "30/30 [==============================] - 0s 997us/step - loss: 0.4170 - binary_accuracy: 0.7806\n",
      "Epoch 25/100\n",
      "30/30 [==============================] - 0s 887us/step - loss: 0.4210 - binary_accuracy: 0.7937\n",
      "Epoch 26/100\n",
      "30/30 [==============================] - 0s 878us/step - loss: 0.4311 - binary_accuracy: 0.7841\n",
      "Epoch 27/100\n",
      "30/30 [==============================] - 0s 884us/step - loss: 0.4094 - binary_accuracy: 0.8044\n",
      "Epoch 28/100\n",
      "30/30 [==============================] - 0s 788us/step - loss: 0.4046 - binary_accuracy: 0.7993\n",
      "Epoch 29/100\n",
      "30/30 [==============================] - 0s 857us/step - loss: 0.3887 - binary_accuracy: 0.8084\n",
      "Epoch 30/100\n",
      "30/30 [==============================] - 0s 857us/step - loss: 0.3981 - binary_accuracy: 0.8042\n",
      "Epoch 31/100\n",
      "30/30 [==============================] - 0s 752us/step - loss: 0.3846 - binary_accuracy: 0.8057\n",
      "Epoch 32/100\n",
      "30/30 [==============================] - 0s 893us/step - loss: 0.3767 - binary_accuracy: 0.8157\n",
      "Epoch 33/100\n",
      "30/30 [==============================] - 0s 781us/step - loss: 0.3590 - binary_accuracy: 0.8159\n",
      "Epoch 34/100\n",
      "30/30 [==============================] - 0s 743us/step - loss: 0.3544 - binary_accuracy: 0.8286\n",
      "Epoch 35/100\n",
      "30/30 [==============================] - 0s 836us/step - loss: 0.3445 - binary_accuracy: 0.8411\n",
      "Epoch 36/100\n",
      "30/30 [==============================] - 0s 767us/step - loss: 0.3315 - binary_accuracy: 0.8335\n",
      "Epoch 37/100\n",
      "30/30 [==============================] - 0s 835us/step - loss: 0.3207 - binary_accuracy: 0.8527\n",
      "Epoch 38/100\n",
      "30/30 [==============================] - 0s 818us/step - loss: 0.3289 - binary_accuracy: 0.8432\n",
      "Epoch 39/100\n",
      "30/30 [==============================] - 0s 903us/step - loss: 0.3166 - binary_accuracy: 0.8527\n",
      "Epoch 40/100\n",
      "30/30 [==============================] - 0s 855us/step - loss: 0.3193 - binary_accuracy: 0.8442\n",
      "Epoch 41/100\n",
      "30/30 [==============================] - 0s 808us/step - loss: 0.2906 - binary_accuracy: 0.8663\n",
      "Epoch 42/100\n",
      "30/30 [==============================] - 0s 893us/step - loss: 0.3015 - binary_accuracy: 0.8499\n",
      "Epoch 43/100\n",
      "30/30 [==============================] - 0s 790us/step - loss: 0.2828 - binary_accuracy: 0.8758\n",
      "Epoch 44/100\n",
      "30/30 [==============================] - 0s 861us/step - loss: 0.2784 - binary_accuracy: 0.8786\n",
      "Epoch 45/100\n",
      "30/30 [==============================] - 0s 865us/step - loss: 0.2726 - binary_accuracy: 0.8759\n",
      "Epoch 46/100\n",
      "30/30 [==============================] - 0s 826us/step - loss: 0.2675 - binary_accuracy: 0.8800\n",
      "Epoch 47/100\n",
      "30/30 [==============================] - 0s 825us/step - loss: 0.2651 - binary_accuracy: 0.8919\n",
      "Epoch 48/100\n",
      "30/30 [==============================] - 0s 855us/step - loss: 0.2514 - binary_accuracy: 0.8980\n",
      "Epoch 49/100\n",
      "30/30 [==============================] - 0s 856us/step - loss: 0.2539 - binary_accuracy: 0.8948\n",
      "Epoch 50/100\n",
      "30/30 [==============================] - 0s 834us/step - loss: 0.2434 - binary_accuracy: 0.8975\n",
      "Epoch 51/100\n",
      "30/30 [==============================] - 0s 809us/step - loss: 0.2235 - binary_accuracy: 0.9007\n",
      "Epoch 52/100\n",
      "30/30 [==============================] - 0s 953us/step - loss: 0.2319 - binary_accuracy: 0.9124\n",
      "Epoch 53/100\n",
      "30/30 [==============================] - 0s 1ms/step - loss: 0.2283 - binary_accuracy: 0.9042\n",
      "Epoch 54/100\n",
      "30/30 [==============================] - 0s 944us/step - loss: 0.2256 - binary_accuracy: 0.9113\n",
      "Epoch 55/100\n",
      "30/30 [==============================] - 0s 820us/step - loss: 0.2104 - binary_accuracy: 0.9252\n",
      "Epoch 56/100\n",
      "30/30 [==============================] - 0s 878us/step - loss: 0.2047 - binary_accuracy: 0.9269\n",
      "Epoch 57/100\n",
      "30/30 [==============================] - 0s 824us/step - loss: 0.1990 - binary_accuracy: 0.9288\n",
      "Epoch 58/100\n",
      "30/30 [==============================] - 0s 849us/step - loss: 0.1942 - binary_accuracy: 0.9346\n",
      "Epoch 59/100\n",
      "30/30 [==============================] - 0s 910us/step - loss: 0.1825 - binary_accuracy: 0.9421\n",
      "Epoch 60/100\n",
      "30/30 [==============================] - 0s 904us/step - loss: 0.1948 - binary_accuracy: 0.9268\n",
      "Epoch 61/100\n",
      "30/30 [==============================] - 0s 838us/step - loss: 0.1850 - binary_accuracy: 0.9378\n",
      "Epoch 62/100\n",
      "30/30 [==============================] - 0s 791us/step - loss: 0.1785 - binary_accuracy: 0.9424\n",
      "Epoch 63/100\n",
      "30/30 [==============================] - 0s 862us/step - loss: 0.1662 - binary_accuracy: 0.9575\n",
      "Epoch 64/100\n",
      "30/30 [==============================] - 0s 808us/step - loss: 0.1558 - binary_accuracy: 0.9537\n",
      "Epoch 65/100\n",
      "30/30 [==============================] - 0s 854us/step - loss: 0.1501 - binary_accuracy: 0.9470\n",
      "Epoch 66/100\n",
      "30/30 [==============================] - 0s 824us/step - loss: 0.1505 - binary_accuracy: 0.9532\n",
      "Epoch 67/100\n",
      "30/30 [==============================] - 0s 923us/step - loss: 0.1669 - binary_accuracy: 0.9482\n",
      "Epoch 68/100\n",
      "30/30 [==============================] - 0s 899us/step - loss: 0.1620 - binary_accuracy: 0.9460\n",
      "Epoch 69/100\n",
      "30/30 [==============================] - 0s 813us/step - loss: 0.1444 - binary_accuracy: 0.9562\n",
      "Epoch 70/100\n",
      "30/30 [==============================] - 0s 845us/step - loss: 0.1508 - binary_accuracy: 0.9586\n",
      "Epoch 71/100\n",
      "30/30 [==============================] - 0s 923us/step - loss: 0.1444 - binary_accuracy: 0.9558\n",
      "Epoch 72/100\n",
      "30/30 [==============================] - 0s 897us/step - loss: 0.1316 - binary_accuracy: 0.9635\n",
      "Epoch 73/100\n",
      "30/30 [==============================] - 0s 844us/step - loss: 0.1440 - binary_accuracy: 0.9565\n",
      "Epoch 74/100\n",
      "30/30 [==============================] - 0s 898us/step - loss: 0.1285 - binary_accuracy: 0.9700\n",
      "Epoch 75/100\n"
     ]
    },
    {
     "name": "stdout",
     "output_type": "stream",
     "text": [
      "30/30 [==============================] - 0s 899us/step - loss: 0.1147 - binary_accuracy: 0.9716\n",
      "Epoch 76/100\n",
      "30/30 [==============================] - 0s 842us/step - loss: 0.1066 - binary_accuracy: 0.9760\n",
      "Epoch 77/100\n",
      "30/30 [==============================] - 0s 847us/step - loss: 0.1148 - binary_accuracy: 0.9720\n",
      "Epoch 78/100\n",
      "30/30 [==============================] - 0s 901us/step - loss: 0.1203 - binary_accuracy: 0.9722\n",
      "Epoch 79/100\n",
      "30/30 [==============================] - 0s 873us/step - loss: 0.1229 - binary_accuracy: 0.9644\n",
      "Epoch 80/100\n",
      "30/30 [==============================] - 0s 789us/step - loss: 0.1136 - binary_accuracy: 0.9727\n",
      "Epoch 81/100\n",
      "30/30 [==============================] - 0s 836us/step - loss: 0.1158 - binary_accuracy: 0.9598\n",
      "Epoch 82/100\n",
      "30/30 [==============================] - 0s 854us/step - loss: 0.1118 - binary_accuracy: 0.9674\n",
      "Epoch 83/100\n",
      "30/30 [==============================] - 0s 813us/step - loss: 0.1022 - binary_accuracy: 0.9734\n",
      "Epoch 84/100\n",
      "30/30 [==============================] - 0s 784us/step - loss: 0.0999 - binary_accuracy: 0.9719\n",
      "Epoch 85/100\n",
      "30/30 [==============================] - 0s 815us/step - loss: 0.1166 - binary_accuracy: 0.9662\n",
      "Epoch 86/100\n",
      "30/30 [==============================] - 0s 888us/step - loss: 0.0944 - binary_accuracy: 0.9784\n",
      "Epoch 87/100\n",
      "30/30 [==============================] - 0s 812us/step - loss: 0.1026 - binary_accuracy: 0.9674\n",
      "Epoch 88/100\n",
      "30/30 [==============================] - 0s 860us/step - loss: 0.0914 - binary_accuracy: 0.9724\n",
      "Epoch 89/100\n",
      "30/30 [==============================] - 0s 892us/step - loss: 0.0959 - binary_accuracy: 0.9675\n",
      "Epoch 90/100\n",
      "30/30 [==============================] - 0s 849us/step - loss: 0.1002 - binary_accuracy: 0.9646\n",
      "Epoch 91/100\n",
      "30/30 [==============================] - 0s 911us/step - loss: 0.0855 - binary_accuracy: 0.9773\n",
      "Epoch 92/100\n",
      "30/30 [==============================] - 0s 843us/step - loss: 0.0848 - binary_accuracy: 0.9695\n",
      "Epoch 93/100\n",
      "30/30 [==============================] - 0s 827us/step - loss: 0.0905 - binary_accuracy: 0.9783\n",
      "Epoch 94/100\n",
      "30/30 [==============================] - 0s 860us/step - loss: 0.0870 - binary_accuracy: 0.9700\n",
      "Epoch 95/100\n",
      "30/30 [==============================] - 0s 803us/step - loss: 0.0853 - binary_accuracy: 0.9788\n",
      "Epoch 96/100\n",
      "30/30 [==============================] - 0s 871us/step - loss: 0.0812 - binary_accuracy: 0.9759\n",
      "Epoch 97/100\n",
      "30/30 [==============================] - 0s 903us/step - loss: 0.0778 - binary_accuracy: 0.9765\n",
      "Epoch 98/100\n",
      "30/30 [==============================] - 0s 799us/step - loss: 0.0850 - binary_accuracy: 0.9785\n",
      "Epoch 99/100\n",
      "30/30 [==============================] - 0s 859us/step - loss: 0.0706 - binary_accuracy: 0.9826\n",
      "Epoch 100/100\n",
      "30/30 [==============================] - 0s 862us/step - loss: 0.0701 - binary_accuracy: 0.9821\n"
     ]
    }
   ],
   "source": [
    "history = model.fit(X_train, y_train, epochs=100)"
   ]
  },
  {
   "cell_type": "code",
   "execution_count": 13,
   "metadata": {},
   "outputs": [
    {
     "name": "stdout",
     "output_type": "stream",
     "text": [
      "13/13 - 0s - loss: 0.0122 - binary_accuracy: 1.0000\n",
      "Loss:  0.012161078862845898\n",
      "Accuracy:  1.0\n"
     ]
    }
   ],
   "source": [
    "test_loss, test_acc = model.evaluate(X_test,  y_test, verbose=2)\n",
    "print(\"Loss: \", test_loss)\n",
    "print(\"Accuracy: \", test_acc)"
   ]
  },
  {
   "cell_type": "code",
   "execution_count": 14,
   "metadata": {},
   "outputs": [
    {
     "data": {
      "text/plain": [
       "dict_keys(['loss', 'binary_accuracy'])"
      ]
     },
     "execution_count": 14,
     "metadata": {},
     "output_type": "execute_result"
    }
   ],
   "source": [
    "history_dict = history.history\n",
    "history_dict.keys()"
   ]
  },
  {
   "cell_type": "code",
   "execution_count": 15,
   "metadata": {},
   "outputs": [
    {
     "data": {
      "image/png": "[encoded data removed]",
      "text/plain": [
       "<Figure size 1296x1296 with 1 Axes>"
      ]
     },
     "metadata": {
      "needs_background": "light"
     },
     "output_type": "display_data"
    }
   ],
   "source": [
    "acc = history_dict['binary_accuracy']\n",
    "loss = history_dict['loss']\n",
    "\n",
    "epochs = range(1, len(acc) + 1)\n",
    "fig = plt.figure(figsize=(18,18))\n",
    "plt.plot(epochs, loss, 'bo', label='Training loss')\n",
    "plt.plot(epochs, acc, 'b', label='Accuracy')\n",
    "plt.title('Training loss and accuracy')\n",
    "plt.xlabel('Epochs')\n",
    "plt.legend()\n",
    "\n",
    "plt.show()"
   ]
  },
  {
   "cell_type": "code",
   "execution_count": null,
   "metadata": {},
   "outputs": [],
   "source": []
  },
  {
   "cell_type": "code",
   "execution_count": null,
   "metadata": {},
   "outputs": [],
   "source": []
  }
 ],
 "metadata": {
  "kernelspec": {
   "display_name": "Python 3",
   "language": "python",
   "name": "python3"
  },
  "language_info": {
   "codemirror_mode": {
    "name": "ipython",
    "version": 3
   },
   "file_extension": ".py",
   "mimetype": "text/x-python",
   "name": "python",
   "nbconvert_exporter": "python",
   "pygments_lexer": "ipython3",
   "version": "3.8.5"
  }
 },
 "nbformat": 4,
 "nbformat_minor": 4
}
